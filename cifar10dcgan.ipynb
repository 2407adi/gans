{
  "nbformat": 4,
  "nbformat_minor": 0,
  "metadata": {
    "colab": {
      "name": "LatestDCGAN.ipynb",
      "version": "0.3.2",
      "views": {},
      "default_view": {},
      "provenance": [],
      "collapsed_sections": []
    },
    "kernelspec": {
      "name": "python2",
      "display_name": "Python 2"
    },
    "accelerator": "GPU"
  },
  "cells": [
    {
      "metadata": {
        "id": "_vA8knol6rGi",
        "colab_type": "code",
        "colab": {
          "autoexec": {
            "startup": false,
            "wait_interval": 0
          }
        }
      },
      "cell_type": "code",
      "source": [
        "from __future__ import print_function, division\n",
        "\n",
        "from keras.layers import Input, Dense, Flatten, Dropout, Reshape\n",
        "from keras.layers import BatchNormalization, Activation, Conv2D, Conv2DTranspose\n",
        "from keras.layers.advanced_activations import LeakyReLU\n",
        "from keras.models import Model\n",
        "from keras.optimizers import Adam\n",
        "\n",
        "from keras.datasets import cifar10\n",
        "import keras.backend as K\n",
        "\n",
        "import matplotlib.pyplot as plt\n",
        "\n",
        "import sys\n",
        "import numpy as np\n",
        "\n",
        "%pylab inline"
      ],
      "execution_count": 0,
      "outputs": []
    },
    {
      "metadata": {
        "id": "MZRiRjRj6xO4",
        "colab_type": "code",
        "colab": {
          "autoexec": {
            "startup": false,
            "wait_interval": 0
          }
        }
      },
      "cell_type": "code",
      "source": [
        "def get_generator(input_layer):\n",
        "\t'''\n",
        "\tRequires the input layer as input, outputs the model and the final layer\n",
        "\t'''\n",
        "\t\n",
        "\thid = Dense(128 * 16 * 16, activation='relu')(input_layer)\t\t\n",
        "\thid = BatchNormalization(momentum=0.9)(hid)\n",
        "\thid = LeakyReLU(alpha=0.1)(hid)\n",
        "\thid = Reshape((16, 16, 128))(hid)\n",
        "\n",
        "\thid = Conv2D(128, kernel_size=5, strides=1,padding='same')(hid)\n",
        "\thid = BatchNormalization(momentum=0.9)(hid)\t\t\n",
        "\t#hid = Dropout(0.5)(hid)\n",
        "\thid = LeakyReLU(alpha=0.1)(hid)\n",
        "\n",
        "\thid = Conv2DTranspose(128, 4, strides=2, padding='same')(hid)\n",
        "\thid = BatchNormalization(momentum=0.9)(hid)\n",
        "\thid = LeakyReLU(alpha=0.1)(hid)\n",
        "\n",
        "\thid = Conv2D(128, kernel_size=5, strides=1, padding='same')(hid)\n",
        "\thid = BatchNormalization(momentum=0.9)(hid)\n",
        "\t#hid = Dropout(0.5)(hid)\n",
        "\thid = LeakyReLU(alpha=0.1)(hid)\n",
        "\n",
        "\thid = Conv2D(128, kernel_size=5, strides=1, padding='same')(hid)\n",
        "\thid = BatchNormalization(momentum=0.9)(hid)\n",
        "\thid = LeakyReLU(alpha=0.1)(hid)\n",
        "\t\t\t\t\t\t\t\t\t\t\t\n",
        "\thid = Conv2D(3, kernel_size=5, strides=1, padding=\"same\")(hid)\n",
        "\tout = Activation(\"tanh\")(hid)\n",
        "\n",
        "\tmodel = Model(input_layer, out)\n",
        "\tmodel.summary()\n",
        "\t\n",
        "\treturn model, out\n"
      ],
      "execution_count": 0,
      "outputs": []
    },
    {
      "metadata": {
        "id": "4yFseSJQ62d2",
        "colab_type": "code",
        "colab": {
          "autoexec": {
            "startup": false,
            "wait_interval": 0
          }
        }
      },
      "cell_type": "code",
      "source": [
        "def get_discriminator(input_layer):\n",
        "\t'''\n",
        "\tRequires the input layer as input, outputs the model and the final layer\n",
        "\t'''\n",
        "\n",
        "\thid = Conv2D(128, kernel_size=3, strides=1, padding='same')(input_layer)\n",
        "\thid = BatchNormalization(momentum=0.9)(hid)\n",
        "\thid = LeakyReLU(alpha=0.1)(hid)\n",
        "\n",
        "\thid = Conv2D(128, kernel_size=4, strides=2, padding='same')(hid)\n",
        "\thid = BatchNormalization(momentum=0.9)(hid)\n",
        "\thid = LeakyReLU(alpha=0.1)(hid)\n",
        "\n",
        "\thid = Conv2D(128, kernel_size=4, strides=2, padding='same')(hid)\n",
        "\thid = BatchNormalization(momentum=0.9)(hid)\n",
        "\thid = LeakyReLU(alpha=0.1)(hid)\n",
        "\n",
        "\thid = Conv2D(128, kernel_size=4, strides=2, padding='same')(hid)\n",
        "\thid = BatchNormalization(momentum=0.9)(hid)\n",
        "\thid = LeakyReLU(alpha=0.1)(hid)\n",
        "\n",
        "\thid = Flatten()(hid)\n",
        "\thid = Dropout(0.4)(hid)\n",
        "\tout = Dense(1, activation='sigmoid')(hid)\n",
        "\n",
        "\tmodel = Model(input_layer, out)\n",
        "\n",
        "\tmodel.summary()\n",
        "\n",
        "\treturn model, out"
      ],
      "execution_count": 0,
      "outputs": []
    },
    {
      "metadata": {
        "id": "uFSdLdMv67Oq",
        "colab_type": "code",
        "colab": {
          "autoexec": {
            "startup": false,
            "wait_interval": 0
          }
        }
      },
      "cell_type": "code",
      "source": [
        "from keras.preprocessing import image\n",
        "\n",
        "def generate_noise(n_samples, noise_dim):\n",
        "\tX = np.random.normal(0, 1, size=(n_samples, noise_dim))\n",
        "\treturn X\n",
        "\n",
        "def show_imgs(batchidx):\n",
        "\tnoise = generate_noise(9, 100)\n",
        "\tgen_imgs = generator.predict(noise)\n",
        "\n",
        "\tfig, axs = plt.subplots(3, 3)\n",
        "\tcount = 0\n",
        "\tfor i in range(3):\n",
        "\t\tfor j in range(3):\n",
        "      # Dont scale the images back, let keras handle it\n",
        "\t\t\timg = image.array_to_img(gen_imgs[count], scale=True)\n",
        "\t\t\taxs[i,j].imshow(img)\n",
        "\t\t\taxs[i,j].axis('off')\n",
        "\t\t\tcount += 1\n",
        "\tplt.show()\n",
        "\tplt.close()  "
      ],
      "execution_count": 0,
      "outputs": []
    },
    {
      "metadata": {
        "id": "Iha5HiXj7FRg",
        "colab_type": "code",
        "colab": {
          "autoexec": {
            "startup": false,
            "wait_interval": 0
          }
        }
      },
      "cell_type": "code",
      "source": [
        "# GAN creation\n",
        "img_input = Input(shape=(32,32,3))\n",
        "discriminator, disc_out = get_discriminator(img_input)\n",
        "discriminator.compile(optimizer=Adam(0.0002, 0.5), loss='binary_crossentropy', metrics=['accuracy'])\n",
        "\n",
        "discriminator.trainable = False\n",
        "\n",
        "noise_input = Input(shape=(100,))\n",
        "generator, gen_out = get_generator(noise_input)\n",
        "\n",
        "gan_input = Input(shape=(100,))\n",
        "x = generator(gan_input)\n",
        "gan_out = discriminator(x)\n",
        "gan = Model(gan_input, gan_out)\n",
        "gan.summary()\n",
        "\n",
        "gan.compile(optimizer=Adam(0.0002, 0.5), loss='binary_crossentropy')\n"
      ],
      "execution_count": 0,
      "outputs": []
    },
    {
      "metadata": {
        "id": "x_C473Ji7OtQ",
        "colab_type": "code",
        "colab": {
          "autoexec": {
            "startup": false,
            "wait_interval": 0
          }
        }
      },
      "cell_type": "code",
      "source": [
        "\n",
        "BATCH_SIZE = 16\n",
        "\n",
        "# # Get training images\n",
        "(X_train, y_train), (X_test, _) = cifar10.load_data()\n",
        "\n",
        "# Select Cars\n",
        "X_train = X_train[y_train[:,0]==1]\n",
        "print (\"Training shape: {}\".format(X_train.shape))\n",
        "\n",
        "# Normalize data\n",
        "X_train = (X_train - 127.5) / 127.5\n",
        " \n",
        "num_batches = int(X_train.shape[0]/BATCH_SIZE)"
      ],
      "execution_count": 0,
      "outputs": []
    },
    {
      "metadata": {
        "id": "jUgkE7bW7ZNK",
        "colab_type": "code",
        "colab": {
          "autoexec": {
            "startup": false,
            "wait_interval": 0
          }
        }
      },
      "cell_type": "code",
      "source": [
        "N_EPOCHS = 20\n",
        "for epoch in range(N_EPOCHS):\n",
        "\n",
        "\tcum_d_loss = 0.\n",
        "\tcum_g_loss = 0.\n",
        "  \n",
        "\tfor batch_idx in range(num_batches):\n",
        "\t\t# Get the next set of real images to be used in this iteration\n",
        "\t\timages = X_train[batch_idx*BATCH_SIZE : (batch_idx+1)*BATCH_SIZE]\n",
        "\n",
        "\t\tnoise_data = generate_noise(BATCH_SIZE, 100)\n",
        "\t\tgenerated_images = generator.predict(noise_data)\n",
        "\n",
        "\t\t# Train on soft labels (add noise to labels as well)\n",
        "\t\tnoise_prop = 0.05 # Randomly flip 5% of labels\n",
        "    \n",
        "    # Prepare labels for real data\n",
        "\t\ttrue_labels = np.zeros((BATCH_SIZE, 1)) + np.random.uniform(low=0.0, high=0.1, size=(BATCH_SIZE, 1))\n",
        "\t\tflipped_idx = np.random.choice(np.arange(len(true_labels)), size=int(noise_prop*len(true_labels)))\n",
        "\t\ttrue_labels[flipped_idx] = 1 - true_labels[flipped_idx]\n",
        "    \n",
        "\t\t# Train discriminator on real data\n",
        "\t\td_loss_true = discriminator.train_on_batch(images, true_labels)\n",
        "\n",
        "\t\t# Prepare labels for generated data\n",
        "\t\tgene_labels = np.ones((BATCH_SIZE, 1)) - np.random.uniform(low=0.0, high=0.1, size=(BATCH_SIZE, 1))\n",
        "\t\tflipped_idx = np.random.choice(np.arange(len(gene_labels)), size=int(noise_prop*len(gene_labels)))\n",
        "\t\tgene_labels[flipped_idx] = 1 - gene_labels[flipped_idx]\n",
        "    \n",
        "\t\t# Train discriminator on generated data\n",
        " \t\td_loss_gene = discriminator.train_on_batch(generated_images, gene_labels)\n",
        "\n",
        "\t\td_loss = 0.5 * np.add(d_loss_true, d_loss_gene)\n",
        "\t\tcum_d_loss += d_loss\n",
        "\n",
        "\t\t# Train generator\n",
        "\t\tnoise_data = generate_noise(BATCH_SIZE, 100)\n",
        "\t\tg_loss = gan.train_on_batch(noise_data, np.zeros((BATCH_SIZE, 1)))\n",
        "\t\tcum_g_loss += g_loss\n",
        "\n",
        "\tprint('\\tEpoch: {}, Generator Loss: {}, Discriminator Loss: {}'.format(epoch+1, cum_g_loss/num_batches, cum_d_loss/num_batches))\n",
        "\tshow_imgs(\"epoch\" + str(epoch))\n"
      ],
      "execution_count": 0,
      "outputs": []
    },
    {
      "metadata": {
        "id": "VbrnIMVREqsW",
        "colab_type": "code",
        "colab": {
          "autoexec": {
            "startup": false,
            "wait_interval": 0
          }
        }
      },
      "cell_type": "code",
      "source": [
        ""
      ],
      "execution_count": 0,
      "outputs": []
    }
  ]
}